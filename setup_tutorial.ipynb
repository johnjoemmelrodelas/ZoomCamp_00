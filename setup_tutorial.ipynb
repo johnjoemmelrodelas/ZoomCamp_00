{
 "cells": [
  {
   "cell_type": "code",
   "execution_count": 3,
   "id": "d82dfb71-1928-4df4-9215-9d046524e054",
   "metadata": {},
   "outputs": [
    {
     "name": "stdout",
     "output_type": "stream",
     "text": [
      "DE ZoomCamp CodeSpaces Environment Setup\n"
     ]
    }
   ],
   "source": [
    "print('DE ZoomCamp CodeSpaces Environment Setup')"
   ]
  }
 ],
 "metadata": {
  "kernelspec": {
   "display_name": "Python 3 (ipykernel)",
   "language": "python",
   "name": "python3"
  },
  "language_info": {
   "codemirror_mode": {
    "name": "ipython",
    "version": 3
   },
   "file_extension": ".py",
   "mimetype": "text/x-python",
   "name": "python",
   "nbconvert_exporter": "python",
   "pygments_lexer": "ipython3",
   "version": "3.10.13"
  }
 },
 "nbformat": 4,
 "nbformat_minor": 5
}
